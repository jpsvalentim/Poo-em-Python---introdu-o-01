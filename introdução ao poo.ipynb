{
 "cells": [
  {
   "cell_type": "code",
   "execution_count": 1,
   "id": "e9fcaa6e",
   "metadata": {},
   "outputs": [
    {
     "name": "stdout",
     "output_type": "stream",
     "text": [
      "Vamos a aula de POO!\n"
     ]
    }
   ],
   "source": [
    "print(\"Vamos a aula de POO!\")"
   ]
  },
  {
   "cell_type": "markdown",
   "id": "f6ec7cc5",
   "metadata": {},
   "source": [
    "## 0. O que é POO?\n",
    "\n",
    "POO = Programação Orientada a Objetos\n",
    "É um paradigma de programação (um jeito de organizar o código) onde você modela o problema em objetos do mundo real.\n",
    "\n",
    "Em vez de pensar só em funções soltas, você cria classes (modelos) e objetos (instâncias desses modelos)."
   ]
  },
  {
   "cell_type": "markdown",
   "id": "a2a67e52",
   "metadata": {},
   "source": [
    "## Conceitos principais da POO em Python\n",
    "\n",
    "## 1. Classe\n",
    "\n",
    "É como uma fábrica ou molde.\n",
    "\n",
    "Define as características (atributos) e comportamentos (métodos)."
   ]
  },
  {
   "cell_type": "code",
   "execution_count": 18,
   "id": "e1d2cffd",
   "metadata": {},
   "outputs": [],
   "source": [
    "class Computador:\n",
    "    pass"
   ]
  },
  {
   "cell_type": "markdown",
   "id": "d9338567",
   "metadata": {},
   "source": [
    "## 2. Objeto (instância)\n",
    "\n",
    "É o produto da fábrica.\n",
    "\n",
    "Criado a partir de uma classe."
   ]
  },
  {
   "cell_type": "code",
   "execution_count": 21,
   "id": "c2390766",
   "metadata": {},
   "outputs": [
    {
     "name": "stdout",
     "output_type": "stream",
     "text": [
      "<__main__.Computador object at 0x000001D0BFF3C910>\n"
     ]
    },
    {
     "data": {
      "text/plain": [
       "__main__.Computador"
      ]
     },
     "execution_count": 21,
     "metadata": {},
     "output_type": "execute_result"
    }
   ],
   "source": [
    "pc = Computador()  # objeto pc é uma instância da classe Computador\n",
    "print(pc)\n",
    "type(pc)"
   ]
  },
  {
   "cell_type": "markdown",
   "id": "341548cd",
   "metadata": {},
   "source": [
    "## 3. Atributos\n",
    "\n",
    "São as características do objeto (variáveis dentro da classe)."
   ]
  },
  {
   "cell_type": "code",
   "execution_count": 22,
   "id": "8d4b3cc4",
   "metadata": {},
   "outputs": [],
   "source": [
    "class Computador:\n",
    "    def __init__(self, marca, memoria):\n",
    "        self.marca = marca\n",
    "        self.memoria = memoria"
   ]
  },
  {
   "cell_type": "markdown",
   "id": "665564fe",
   "metadata": {},
   "source": [
    "## 4. Métodos\n",
    "\n",
    "São as ações/comportamentos do objeto (funções dentro da classe)."
   ]
  },
  {
   "cell_type": "code",
   "execution_count": 23,
   "id": "bbb17c27",
   "metadata": {},
   "outputs": [],
   "source": [
    "class Computador:\n",
    "    def ligar(self):\n",
    "        print(\"Ligando o computador...\")"
   ]
  },
  {
   "cell_type": "markdown",
   "id": "9ca6ef8f",
   "metadata": {},
   "source": [
    "## 5. Encapsulamento\n",
    "\n",
    "Controla o acesso a atributos/métodos (público, protegido, privado).\n",
    "\n",
    "Em Python temos:\n",
    "\n",
    "Público → self.atributo\n",
    "\n",
    "Protegido (convencional) → _atributo\n",
    "\n",
    "Privado (forte) → __atributo\n",
    "\n",
    "- veremos um exemplo desta implementação em breve"
   ]
  },
  {
   "cell_type": "markdown",
   "id": "a63c66ba",
   "metadata": {},
   "source": [
    "## 6. Herança\n",
    "\n",
    "Permite criar classes novas reaproveitando código de outras classes."
   ]
  },
  {
   "cell_type": "code",
   "execution_count": 24,
   "id": "b9f424ce",
   "metadata": {},
   "outputs": [
    {
     "name": "stdout",
     "output_type": "stream",
     "text": [
      "Ligando dispositivo...\n"
     ]
    }
   ],
   "source": [
    "class Dispositivo:\n",
    "    def ligar(self):\n",
    "        print(\"Ligando dispositivo...\")\n",
    "\n",
    "class Computador(Dispositivo):\n",
    "    pass\n",
    "\n",
    "pc = Computador()\n",
    "pc.ligar()  # herdado da classe Dispositivo"
   ]
  },
  {
   "cell_type": "markdown",
   "id": "e6bb5fed",
   "metadata": {},
   "source": [
    "## 7. Polimorfismo\n",
    "\n",
    "Permite que métodos com o mesmo nome se comportem de forma diferente em classes diferentes"
   ]
  },
  {
   "cell_type": "code",
   "execution_count": 26,
   "id": "36b460ce",
   "metadata": {},
   "outputs": [
    {
     "name": "stdout",
     "output_type": "stream",
     "text": [
      "Conectando via USB\n",
      "Conectando via Bluetooth\n"
     ]
    }
   ],
   "source": [
    "class Mouse:\n",
    "    def conectar(self):\n",
    "        print(\"Conectando via USB\")\n",
    "\n",
    "class Teclado:\n",
    "    def conectar(self):\n",
    "        print(\"Conectando via Bluetooth\")\n",
    "\n",
    "dispositivos = [Mouse(), Teclado()]\n",
    "for d in dispositivos:\n",
    "    d.conectar()"
   ]
  },
  {
   "cell_type": "markdown",
   "id": "a7835849",
   "metadata": {},
   "source": [
    "## Exemplo:"
   ]
  },
  {
   "cell_type": "code",
   "execution_count": 27,
   "id": "4858add5",
   "metadata": {},
   "outputs": [
    {
     "name": "stdout",
     "output_type": "stream",
     "text": [
      "Dell está ligando...\n",
      "Computador Lenovo - 8GB RAM - Ryzen 5\n"
     ]
    }
   ],
   "source": [
    "class Computador:\n",
    "    def __init__(self, marca, memoria, processador):\n",
    "        self.marca = marca\n",
    "        self.memoria = memoria\n",
    "        self.processador = processador\n",
    "\n",
    "    def ligar(self):\n",
    "        print(f\"{self.marca} está ligando...\")\n",
    "\n",
    "    def mostrar_info(self):\n",
    "        print(f\"Computador {self.marca} - {self.memoria} RAM - {self.processador}\")\n",
    "\n",
    "# Criando objetos\n",
    "pc1 = Computador(\"Dell\", \"16GB\", \"i7\")\n",
    "pc2 = Computador(\"Lenovo\", \"8GB\", \"Ryzen 5\")\n",
    "\n",
    "pc1.ligar()\n",
    "pc2.mostrar_info()"
   ]
  },
  {
   "cell_type": "markdown",
   "id": "93999f3a",
   "metadata": {},
   "source": [
    "Saída:"
   ]
  },
  {
   "cell_type": "code",
   "execution_count": 17,
   "id": "d6bc7cbc",
   "metadata": {},
   "outputs": [],
   "source": [
    "#Dell está ligando...\n",
    "#Computador Lenovo - 8GB RAM - Ryzen 5"
   ]
  }
 ],
 "metadata": {
  "kernelspec": {
   "display_name": "Python 3",
   "language": "python",
   "name": "python3"
  },
  "language_info": {
   "codemirror_mode": {
    "name": "ipython",
    "version": 3
   },
   "file_extension": ".py",
   "mimetype": "text/x-python",
   "name": "python",
   "nbconvert_exporter": "python",
   "pygments_lexer": "ipython3",
   "version": "3.13.3"
  }
 },
 "nbformat": 4,
 "nbformat_minor": 5
}
