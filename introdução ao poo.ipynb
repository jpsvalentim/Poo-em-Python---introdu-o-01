{
 "cells": [
  {
   "cell_type": "code",
   "execution_count": null,
   "id": "e9fcaa6e",
   "metadata": {},
   "outputs": [],
   "source": [
    "print(\"Vamos a aula de POO!\")"
   ]
  },
  {
   "cell_type": "markdown",
   "id": "f6ec7cc5",
   "metadata": {},
   "source": [
    "## 0. O que é POO?\n",
    "\n",
    "POO = Programação Orientada a Objetos\n",
    "É um paradigma de programação (um jeito de organizar o código) onde você modela o problema em objetos do mundo real.\n",
    "\n",
    "Em vez de pensar só em funções soltas, você cria classes (modelos) e objetos (instâncias desses modelos)."
   ]
  },
  {
   "cell_type": "markdown",
   "id": "a2a67e52",
   "metadata": {},
   "source": [
    "## Conceitos principais da POO em Python\n",
    "\n",
    "## 1. Classe\n",
    "\n",
    "É como uma fábrica ou molde.\n",
    "\n",
    "Define as características (atributos) e comportamentos (métodos)."
   ]
  },
  {
   "cell_type": "code",
   "execution_count": null,
   "id": "e1d2cffd",
   "metadata": {},
   "outputs": [],
   "source": [
    "class Computador:\n",
    "    pass"
   ]
  },
  {
   "cell_type": "markdown",
   "id": "d9338567",
   "metadata": {},
   "source": [
    "## 2. Objeto (instância)\n",
    "\n",
    "É o produto da fábrica.\n",
    "\n",
    "Criado a partir de uma classe."
   ]
  },
  {
   "cell_type": "code",
   "execution_count": null,
   "id": "c2390766",
   "metadata": {},
   "outputs": [],
   "source": [
    "pc = Computador()  # objeto pc é uma instância da classe Computador\n",
    "print(pc)\n",
    "type(pc)"
   ]
  },
  {
   "cell_type": "markdown",
   "id": "341548cd",
   "metadata": {},
   "source": [
    "## 3. Atributos\n",
    "\n",
    "São as características do objeto (variáveis dentro da classe)."
   ]
  },
  {
   "cell_type": "code",
   "execution_count": null,
   "id": "8d4b3cc4",
   "metadata": {},
   "outputs": [],
   "source": [
    "class Computador:\n",
    "    def __init__(self, marca, memoria):\n",
    "        self.marca = marca\n",
    "        self.memoria = memoria"
   ]
  },
  {
   "cell_type": "markdown",
   "id": "665564fe",
   "metadata": {},
   "source": [
    "## 4. Métodos\n",
    "\n",
    "São as ações/comportamentos do objeto (funções dentro da classe)."
   ]
  },
  {
   "cell_type": "code",
   "execution_count": null,
   "id": "bbb17c27",
   "metadata": {},
   "outputs": [],
   "source": [
    "class Computador:\n",
    "    def ligar(self):\n",
    "        print(\"Ligando o computador...\")"
   ]
  },
  {
   "cell_type": "markdown",
   "id": "9ca6ef8f",
   "metadata": {},
   "source": [
    "## 5. Encapsulamento\n",
    "\n",
    "Controla o acesso a atributos/métodos (público, protegido, privado).\n",
    "\n",
    "Em Python temos:\n",
    "\n",
    "Público → self.atributo\n",
    "\n",
    "Protegido (convencional) → _atributo\n",
    "\n",
    "Privado (forte) → __atributo\n",
    "\n",
    "- veremos um exemplo desta implementação em breve"
   ]
  },
  {
   "cell_type": "markdown",
   "id": "a63c66ba",
   "metadata": {},
   "source": [
    "## 6. Herança\n",
    "\n",
    "Permite criar classes novas reaproveitando código de outras classes."
   ]
  },
  {
   "cell_type": "code",
   "execution_count": null,
   "id": "b9f424ce",
   "metadata": {},
   "outputs": [],
   "source": [
    "class Dispositivo:\n",
    "    def ligar(self):\n",
    "        print(\"Ligando dispositivo...\")\n",
    "\n",
    "class Computador(Dispositivo):\n",
    "    pass\n",
    "\n",
    "pc = Computador()\n",
    "pc.ligar()  # herdado da classe Dispositivo"
   ]
  },
  {
   "cell_type": "markdown",
   "id": "e6bb5fed",
   "metadata": {},
   "source": [
    "## 7. Polimorfismo\n",
    "\n",
    "Permite que métodos com o mesmo nome se comportem de forma diferente em classes diferentes"
   ]
  },
  {
   "cell_type": "code",
   "execution_count": null,
   "id": "36b460ce",
   "metadata": {},
   "outputs": [],
   "source": [
    "class Mouse:\n",
    "    def conectar(self):\n",
    "        print(\"Conectando via USB\")\n",
    "\n",
    "class Teclado:\n",
    "    def conectar(self):\n",
    "        print(\"Conectando via Bluetooth\")\n",
    "\n",
    "dispositivos = [Mouse(), Teclado()]\n",
    "for d in dispositivos:\n",
    "    d.conectar()"
   ]
  },
  {
   "cell_type": "markdown",
   "id": "a7835849",
   "metadata": {},
   "source": [
    "## Exemplo:"
   ]
  },
  {
   "cell_type": "code",
   "execution_count": null,
   "id": "4858add5",
   "metadata": {},
   "outputs": [],
   "source": [
    "class Computador:\n",
    "    def __init__(self, marca, memoria, processador):\n",
    "        self.marca = marca\n",
    "        self.memoria = memoria\n",
    "        self.processador = processador\n",
    "\n",
    "    def ligar(self):\n",
    "        print(f\"{self.marca} está ligando...\")\n",
    "\n",
    "    def mostrar_info(self):\n",
    "        print(f\"Computador {self.marca} - {self.memoria} RAM - {self.processador}\")\n",
    "\n",
    "# Criando objetos\n",
    "pc1 = Computador(\"Dell\", \"16GB\", \"i7\")\n",
    "pc2 = Computador(\"Lenovo\", \"8GB\", \"Ryzen 5\")\n",
    "\n",
    "pc1.ligar()\n",
    "pc2.mostrar_info()"
   ]
  },
  {
   "cell_type": "markdown",
   "id": "93999f3a",
   "metadata": {},
   "source": [
    "Saída:"
   ]
  },
  {
   "cell_type": "code",
   "execution_count": null,
   "id": "d6bc7cbc",
   "metadata": {},
   "outputs": [],
   "source": [
    "#Dell está ligando...\n",
    "#Computador Lenovo - 8GB RAM - Ryzen 5"
   ]
  },
  {
   "cell_type": "markdown",
   "id": "be2f5e9d",
   "metadata": {},
   "source": [
    "## Desafio:\n",
    "\n",
    "## 01 Crie a classe Carro; crie 3 ou mais propriedades e 3 ou mais métodos.\n"
   ]
  },
  {
   "cell_type": "code",
   "execution_count": null,
   "id": "244c1a06",
   "metadata": {},
   "outputs": [],
   "source": [
    "#resposta desafio 01\n",
    "class Carro:\n",
    "    def __init__(self,tipo, marca, tipo_combustivel, peso, velocidade_max, modelo):\n",
    "        self.tipo = tipo\n",
    "        self.marca = marca\n",
    "        self.tipo_combustivel = tipo_combustivel\n",
    "        self.peso = peso\n",
    "        self.velocidade_max = velocidade_max\n",
    "        self.modelo = modelo\n",
    "\n",
    "    def ExibirInfoCarro(self):\n",
    "        print(self.marca, self.modelo, self.tipo)\n",
    "\n",
    "carro1 = Carro(\"Sedan\", \"Fiat\", \"Hibrido - eletrico/alcool\", \"900kg\", 230, \"Sedan - invictos\")\n",
    "print(carro1)\n",
    "carro1.ExibirInfoCarro()"
   ]
  },
  {
   "cell_type": "markdown",
   "id": "f453e2d8",
   "metadata": {},
   "source": [
    "Poderiamos expandir:"
   ]
  },
  {
   "cell_type": "code",
   "execution_count": 1,
   "id": "170faf53",
   "metadata": {},
   "outputs": [],
   "source": [
    "class Carro:\n",
    "    def __init__(self, tipo, marca, tipo_combustivel, peso, velocidade_max, modelo, \n",
    "                 cor, ano, qtd_portas, placa, quilometragem=0):\n",
    "        # Atributos básicos\n",
    "        self.tipo = tipo\n",
    "        self.marca = marca\n",
    "        self.tipo_combustivel = tipo_combustivel\n",
    "        self.peso = peso\n",
    "        self.velocidade_max = velocidade_max\n",
    "        self.modelo = modelo\n",
    "        # Novos atributos\n",
    "        self.cor = cor\n",
    "        self.ano = ano\n",
    "        self.qtd_portas = qtd_portas\n",
    "        self.placa = placa\n",
    "        self.quilometragem = quilometragem\n",
    "        self.ligado = False\n",
    "        self.velocidade_atual = 0\n",
    "\n",
    "    # 1 - Exibir informações detalhadas do carro\n",
    "    def exibir_info(self):\n",
    "        print(f\"--- Informações do Carro ---\")\n",
    "        print(f\"{self.marca} {self.modelo} ({self.ano})\")\n",
    "        print(f\"Tipo: {self.tipo}, Combustível: {self.tipo_combustivel}\")\n",
    "        print(f\"Cor: {self.cor}, Portas: {self.qtd_portas}, Placa: {self.placa}\")\n",
    "        print(f\"Peso: {self.peso} kg, Velocidade Máx: {self.velocidade_max} km/h\")\n",
    "        print(f\"Quilometragem: {self.quilometragem} km\")\n",
    "        print(f\"Status: {'Ligado' if self.ligado else 'Desligado'}\")\n",
    "\n",
    "    # 2 - Ligar o carro\n",
    "    def ligar(self):\n",
    "        if not self.ligado:\n",
    "            self.ligado = True\n",
    "            print(\"O carro foi ligado.\")\n",
    "        else:\n",
    "            print(\"O carro já está ligado.\")\n",
    "\n",
    "    # 3 - Desligar o carro\n",
    "    def desligar(self):\n",
    "        if self.ligado:\n",
    "            self.ligado = False\n",
    "            self.velocidade_atual = 0\n",
    "            print(\"O carro foi desligado.\")\n",
    "        else:\n",
    "            print(\"O carro já está desligado.\")\n",
    "\n",
    "    # 4 - Acelerar o carro\n",
    "    def acelerar(self, incremento):\n",
    "        if self.ligado:\n",
    "            nova_velocidade = self.velocidade_atual + incremento\n",
    "            if nova_velocidade <= self.velocidade_max:\n",
    "                self.velocidade_atual = nova_velocidade\n",
    "                print(f\"O carro acelerou para {self.velocidade_atual} km/h.\")\n",
    "            else:\n",
    "                self.velocidade_atual = self.velocidade_max\n",
    "                print(f\"O carro atingiu a velocidade máxima de {self.velocidade_max} km/h!\")\n",
    "        else:\n",
    "            print(\"Não é possível acelerar com o carro desligado.\")\n",
    "\n",
    "    # 5 - Frear o carro\n",
    "    def frear(self, reducao):\n",
    "        if self.ligado and self.velocidade_atual > 0:\n",
    "            self.velocidade_atual = max(0, self.velocidade_atual - reducao)\n",
    "            print(f\"O carro reduziu para {self.velocidade_atual} km/h.\")\n",
    "        else:\n",
    "            print(\"O carro já está parado ou desligado.\")\n"
   ]
  },
  {
   "cell_type": "code",
   "execution_count": 5,
   "id": "84f580f9",
   "metadata": {},
   "outputs": [
    {
     "name": "stdout",
     "output_type": "stream",
     "text": [
      "executado!\n"
     ]
    }
   ],
   "source": [
    "# Criando objetos (instâncias da classe Carro)\n",
    "carro1 = Carro(\n",
    "    tipo=\"SUV\",\n",
    "    marca=\"Toyota\",\n",
    "    tipo_combustivel=\"Gasolina\",\n",
    "    peso=1500,\n",
    "    velocidade_max=180,\n",
    "    modelo=\"RAV4\",\n",
    "    cor=\"Preto\",\n",
    "    ano=2022,\n",
    "    qtd_portas=4,\n",
    "    placa=\"ABC-1234\"\n",
    ")\n",
    "\n",
    "carro2 = Carro(\n",
    "    tipo=\"Esportivo\",\n",
    "    marca=\"Ferrari\",\n",
    "    tipo_combustivel=\"Gasolina\",\n",
    "    peso=1200,\n",
    "    velocidade_max=320,\n",
    "    modelo=\"488 GTB\",\n",
    "    cor=\"Vermelho\",\n",
    "    ano=2021,\n",
    "    qtd_portas=2,\n",
    "    placa=\"XYZ-9876\"\n",
    ")\n",
    "\n",
    "print(\"executado!\")\n",
    "\n"
   ]
  },
  {
   "cell_type": "code",
   "execution_count": 6,
   "id": "a8a4b3ef",
   "metadata": {},
   "outputs": [
    {
     "name": "stdout",
     "output_type": "stream",
     "text": [
      "--- Informações do Carro ---\n",
      "Toyota RAV4 (2022)\n",
      "Tipo: SUV, Combustível: Gasolina\n",
      "Cor: Preto, Portas: 4, Placa: ABC-1234\n",
      "Peso: 1500 kg, Velocidade Máx: 180 km/h\n",
      "Quilometragem: 0 km\n",
      "Status: Desligado\n",
      "----------------------------------------\n"
     ]
    }
   ],
   "source": [
    "# Chamando métodos\n",
    "carro1.exibir_info()\n",
    "print(\"-\" * 40)\n",
    "\n",
    "\n",
    "\n",
    "\n"
   ]
  },
  {
   "cell_type": "code",
   "execution_count": 7,
   "id": "7fe7d701",
   "metadata": {},
   "outputs": [
    {
     "name": "stdout",
     "output_type": "stream",
     "text": [
      "O carro foi ligado.\n",
      "O carro acelerou para 50 km/h.\n",
      "O carro acelerou para 150 km/h.\n",
      "O carro reduziu para 120 km/h.\n",
      "O carro foi desligado.\n",
      "----------------------------------------\n"
     ]
    }
   ],
   "source": [
    "carro1.ligar()\n",
    "carro1.acelerar(50)\n",
    "carro1.acelerar(100)\n",
    "carro1.frear(30)\n",
    "carro1.desligar()\n",
    "print(\"-\" * 40)"
   ]
  },
  {
   "cell_type": "code",
   "execution_count": 8,
   "id": "7db6081e",
   "metadata": {},
   "outputs": [
    {
     "name": "stdout",
     "output_type": "stream",
     "text": [
      "--- Informações do Carro ---\n",
      "Ferrari 488 GTB (2021)\n",
      "Tipo: Esportivo, Combustível: Gasolina\n",
      "Cor: Vermelho, Portas: 2, Placa: XYZ-9876\n",
      "Peso: 1200 kg, Velocidade Máx: 320 km/h\n",
      "Quilometragem: 0 km\n",
      "Status: Desligado\n",
      "O carro foi ligado.\n",
      "O carro acelerou para 200 km/h.\n",
      "O carro atingiu a velocidade máxima de 320 km/h!\n",
      "O carro reduziu para 100 km/h.\n",
      "O carro foi desligado.\n"
     ]
    }
   ],
   "source": [
    "carro2.exibir_info()\n",
    "carro2.ligar()\n",
    "carro2.acelerar(200)\n",
    "carro2.acelerar(150)   # Deve travar na velocidade máxima (320 km/h)\n",
    "carro2.frear(220)\n",
    "carro2.desligar()"
   ]
  },
  {
   "cell_type": "markdown",
   "id": "f55a61b6",
   "metadata": {},
   "source": [
    "## Adições\n",
    "O que foi adicionado\n",
    "\n",
    "- Novos atributos: \n",
    "\n",
    "cor, ano, qtd_portas, placa, quilometragem, ligado, velocidade_atual.\n",
    "\n",
    "- Métodos:\n",
    "\n",
    "exibir_info() → mostra todas as informações do carro.\n",
    "\n",
    "ligar() → liga o carro.\n",
    "\n",
    "desligar() → desliga o carro.\n",
    "\n",
    "acelerar(incremento) → aumenta a velocidade até o limite.\n",
    "\n",
    "frear(reducao) → reduz a velocidade até parar."
   ]
  },
  {
   "cell_type": "code",
   "execution_count": null,
   "id": "16d14cb9",
   "metadata": {},
   "outputs": [],
   "source": []
  }
 ],
 "metadata": {
  "kernelspec": {
   "display_name": "Python 3",
   "language": "python",
   "name": "python3"
  },
  "language_info": {
   "codemirror_mode": {
    "name": "ipython",
    "version": 3
   },
   "file_extension": ".py",
   "mimetype": "text/x-python",
   "name": "python",
   "nbconvert_exporter": "python",
   "pygments_lexer": "ipython3",
   "version": "3.13.3"
  }
 },
 "nbformat": 4,
 "nbformat_minor": 5
}
